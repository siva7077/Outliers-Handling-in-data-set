{
 "cells": [
  {
   "cell_type": "code",
   "execution_count": 12,
   "metadata": {},
   "outputs": [],
   "source": [
    "# z-score\n",
    "# IQR\n",
    "import numpy as np\n",
    "import pandas as pd\n",
    "import seaborn as sns"
   ]
  },
  {
   "cell_type": "code",
   "execution_count": 7,
   "metadata": {},
   "outputs": [
    {
     "name": "stdout",
     "output_type": "stream",
     "text": [
      "18.214285714285715\n",
      "17.345969360667755\n"
     ]
    }
   ],
   "source": [
    "# find outliers using z score\n",
    "list1=[12,14,15,17,18,14,18,13,12,12,10,9,11,80]\n",
    "m=np.mean(list1)\n",
    "sd=np.std(list1)\n",
    "print(m)\n",
    "print(sd)"
   ]
  },
  {
   "cell_type": "code",
   "execution_count": 8,
   "metadata": {},
   "outputs": [
    {
     "name": "stdout",
     "output_type": "stream",
     "text": [
      "-0.3582553148270111\n",
      "-0.24295475373326042\n",
      "-0.18530447318638507\n",
      "-0.0700039120926344\n",
      "-0.01235363154575906\n",
      "-0.24295475373326042\n",
      "-0.01235363154575906\n",
      "-0.30060503428013574\n",
      "-0.3582553148270111\n",
      "-0.3582553148270111\n",
      "-0.4735558759207618\n",
      "-0.5312061564676371\n",
      "-0.41590559537388644\n",
      "3.561963762360512\n",
      "[80]\n"
     ]
    }
   ],
   "source": [
    "thr=3\n",
    "list_outliers=[]\n",
    "for i in list1:\n",
    "    z_score=(i-m)/sd\n",
    "    print(z_score)\n",
    "    if z_score>thr:\n",
    "        list_outliers.append(i)\n",
    "print(list_outliers)        "
   ]
  },
  {
   "cell_type": "code",
   "execution_count": 11,
   "metadata": {},
   "outputs": [
    {
     "data": {
      "text/html": [
       "<div>\n",
       "<style scoped>\n",
       "    .dataframe tbody tr th:only-of-type {\n",
       "        vertical-align: middle;\n",
       "    }\n",
       "\n",
       "    .dataframe tbody tr th {\n",
       "        vertical-align: top;\n",
       "    }\n",
       "\n",
       "    .dataframe thead th {\n",
       "        text-align: right;\n",
       "    }\n",
       "</style>\n",
       "<table border=\"1\" class=\"dataframe\">\n",
       "  <thead>\n",
       "    <tr style=\"text-align: right;\">\n",
       "      <th></th>\n",
       "      <th>0</th>\n",
       "    </tr>\n",
       "  </thead>\n",
       "  <tbody>\n",
       "    <tr>\n",
       "      <th>0</th>\n",
       "      <td>1</td>\n",
       "    </tr>\n",
       "    <tr>\n",
       "      <th>1</th>\n",
       "      <td>2</td>\n",
       "    </tr>\n",
       "    <tr>\n",
       "      <th>2</th>\n",
       "      <td>12</td>\n",
       "    </tr>\n",
       "    <tr>\n",
       "      <th>3</th>\n",
       "      <td>14</td>\n",
       "    </tr>\n",
       "    <tr>\n",
       "      <th>4</th>\n",
       "      <td>15</td>\n",
       "    </tr>\n",
       "  </tbody>\n",
       "</table>\n",
       "</div>"
      ],
      "text/plain": [
       "    0\n",
       "0   1\n",
       "1   2\n",
       "2  12\n",
       "3  14\n",
       "4  15"
      ]
     },
     "execution_count": 11,
     "metadata": {},
     "output_type": "execute_result"
    }
   ],
   "source": [
    "# using IQR method\n",
    "list2=[1,2,12,14,15,17,18,14,18,13,12,12,10,9,11,80]\n",
    "data=pd.DataFrame(list2)\n",
    "data.head()\n",
    "\n"
   ]
  },
  {
   "cell_type": "code",
   "execution_count": 14,
   "metadata": {},
   "outputs": [
    {
     "data": {
      "text/plain": [
       "<AxesSubplot:xlabel='0'>"
      ]
     },
     "execution_count": 14,
     "metadata": {},
     "output_type": "execute_result"
    },
    {
     "data": {
      "image/png": "[encoded data removed]",
      "text/plain": [
       "<Figure size 640x480 with 1 Axes>"
      ]
     },
     "metadata": {},
     "output_type": "display_data"
    }
   ],
   "source": [
    "sns.boxplot(x=data[0])"
   ]
  },
  {
   "cell_type": "code",
   "execution_count": 15,
   "metadata": {},
   "outputs": [],
   "source": [
    "q1=np.percentile(data[0],25,interpolation='midpoint')\n",
    "q2=np.percentile(data[0],50,interpolation='midpoint')\n",
    "q3=np.percentile(data[0],75,interpolation='midpoint')"
   ]
  },
  {
   "cell_type": "code",
   "execution_count": 16,
   "metadata": {},
   "outputs": [
    {
     "name": "stdout",
     "output_type": "stream",
     "text": [
      "24.25\n",
      "2.25\n"
     ]
    }
   ],
   "source": [
    "iqr=q3-q1\n",
    "low_limit=q1-1.5*iqr\n",
    "upper_limit=q3+1.5*iqr\n",
    "print(upper_limit)\n",
    "print(low_limit)"
   ]
  },
  {
   "cell_type": "code",
   "execution_count": 18,
   "metadata": {},
   "outputs": [
    {
     "name": "stdout",
     "output_type": "stream",
     "text": [
      "[1, 2, 80]\n"
     ]
    }
   ],
   "source": [
    "list_out=[]\n",
    "for i in data[0]:\n",
    "    if i>upper_limit or i<low_limit:\n",
    "        list_out.append(i)\n",
    "print(list_out)"
   ]
  }
 ],
 "metadata": {
  "kernelspec": {
   "display_name": "Python 3",
   "language": "python",
   "name": "python3"
  },
  "language_info": {
   "codemirror_mode": {
    "name": "ipython",
    "version": 3
   },
   "file_extension": ".py",
   "mimetype": "text/x-python",
   "name": "python",
   "nbconvert_exporter": "python",
   "pygments_lexer": "ipython3",
   "version": "3.6.5"
  }
 },
 "nbformat": 4,
 "nbformat_minor": 5
}
